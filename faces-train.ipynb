{
 "cells": [
  {
   "cell_type": "code",
   "execution_count": 1,
   "metadata": {},
   "outputs": [
    {
     "name": "stdout",
     "output_type": "stream",
     "text": [
      "C:\\Users\\mayur\\Face_Detection\n",
      "{'emilia-clarke': 0}\n",
      "{'emilia-clarke': 0, 'justin': 1}\n",
      "{'emilia-clarke': 0, 'justin': 1, 'kit-harington': 2}\n",
      "{'emilia-clarke': 0, 'justin': 1, 'kit-harington': 2, 'mayur-patil': 3}\n",
      "{'emilia-clarke': 0, 'justin': 1, 'kit-harington': 2, 'mayur-patil': 3, 'peter-dinklage': 4}\n",
      "{'emilia-clarke': 0, 'justin': 1, 'kit-harington': 2, 'mayur-patil': 3, 'peter-dinklage': 4, 'rdj': 5}\n"
     ]
    }
   ],
   "source": [
    "import cv2\n",
    "import os\n",
    "import numpy as np\n",
    "from PIL import Image\n",
    "import pickle\n",
    "\n",
    "BASE_DIR = r'C:\\Users\\mayur\\Face_Detection'\n",
    "print(BASE_DIR)\n",
    "image_dir = os.path.join(BASE_DIR, \"images\")\n",
    "\n",
    "face_cascade = cv2.CascadeClassifier('cascades/data/haarcascade_frontalface_default.xml')\n",
    "recognizer = cv2.face.LBPHFaceRecognizer_create()\n",
    "\n",
    "current_id = 0\n",
    "label_ids = {}\n",
    "y_labels = []\n",
    "x_train = []\n",
    "\n",
    "for root, dirs, files in os.walk(image_dir):\n",
    "    for file in files:\n",
    "        if file.endswith(\"png\") or file.endswith(\"jpg\"):\n",
    "            path = os.path.join(root, file)\n",
    "            label = os.path.basename(root).replace(\" \", \"-\").lower()\n",
    "\n",
    "            if not label in label_ids:\n",
    "                label_ids[label] = current_id\n",
    "                print(label_ids)\n",
    "                current_id += 1\n",
    "            id_ = label_ids[label]\n",
    "\n",
    "            pil_image = Image.open(path).convert(\"L\") # grayscale\n",
    "            size = (550, 550)\n",
    "            final_image = pil_image.resize(size, Image.ANTIALIAS)\n",
    "            image_array = np.array(final_image, \"uint8\")\n",
    "\n",
    "            faces = face_cascade.detectMultiScale(image_array, scaleFactor=1.5, minNeighbors=5)\n",
    "\n",
    "            for (x,y,w,h) in faces:\n",
    "                roi = image_array[y:y+h, x:x+w]\n",
    "                x_train.append(roi)\n",
    "                y_labels.append(id_)\n",
    "\n",
    "\n",
    "with open(\"face-labels.pickle\", 'wb') as f:\n",
    "    pickle.dump(label_ids, f)\n",
    "\n",
    "recognizer.train(x_train, np.array(y_labels))\n",
    "recognizer.save(\"face-trainner.yml\")\n"
   ]
  },
  {
   "cell_type": "code",
   "execution_count": null,
   "metadata": {},
   "outputs": [],
   "source": []
  }
 ],
 "metadata": {
  "kernelspec": {
   "display_name": "Python 3",
   "language": "python",
   "name": "python3"
  },
  "language_info": {
   "codemirror_mode": {
    "name": "ipython",
    "version": 3
   },
   "file_extension": ".py",
   "mimetype": "text/x-python",
   "name": "python",
   "nbconvert_exporter": "python",
   "pygments_lexer": "ipython3",
   "version": "3.8.3"
  }
 },
 "nbformat": 4,
 "nbformat_minor": 4
}
